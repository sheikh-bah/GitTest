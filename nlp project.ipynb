{
 "cells": [
  {
   "cell_type": "code",
   "execution_count": 16,
   "metadata": {},
   "outputs": [],
   "source": [
    "from nltk.tokenize import word_tokenize\n",
    "from nltk.tokenize import TreebankWordTokenizer\n",
    "from nltk.tokenize import WordPunctTokenizer\n",
    "import nltk\n",
    "import pandas"
   ]
  },
  {
   "cell_type": "code",
   "execution_count": 17,
   "metadata": {},
   "outputs": [],
   "source": [
    "text=\"Hello my people! I'm going to visit a friend. Would you like to come?\""
   ]
  },
  {
   "cell_type": "code",
   "execution_count": 18,
   "metadata": {},
   "outputs": [
    {
     "data": {
      "text/plain": [
       "['Hello',\n",
       " 'my',\n",
       " 'people',\n",
       " '!',\n",
       " 'I',\n",
       " \"'m\",\n",
       " 'going',\n",
       " 'to',\n",
       " 'visit',\n",
       " 'a',\n",
       " 'friend',\n",
       " '.',\n",
       " 'Would',\n",
       " 'you',\n",
       " 'like',\n",
       " 'to',\n",
       " 'come',\n",
       " '?']"
      ]
     },
     "execution_count": 18,
     "metadata": {},
     "output_type": "execute_result"
    }
   ],
   "source": [
    "token_word=word_tokenize(text)\n",
    "token_word"
   ]
  },
  {
   "cell_type": "code",
   "execution_count": 19,
   "metadata": {},
   "outputs": [
    {
     "data": {
      "text/plain": [
       "['Hello',\n",
       " 'my',\n",
       " 'people',\n",
       " '!',\n",
       " 'I',\n",
       " \"'m\",\n",
       " 'going',\n",
       " 'to',\n",
       " 'visit',\n",
       " 'a',\n",
       " 'friend.',\n",
       " 'Would',\n",
       " 'you',\n",
       " 'like',\n",
       " 'to',\n",
       " 'come',\n",
       " '?']"
      ]
     },
     "execution_count": 19,
     "metadata": {},
     "output_type": "execute_result"
    }
   ],
   "source": [
    "tree_bank=TreebankWordTokenizer()\n",
    "tree_bank.tokenize(text)"
   ]
  },
  {
   "cell_type": "code",
   "execution_count": 20,
   "metadata": {},
   "outputs": [
    {
     "data": {
      "text/plain": [
       "['Hello',\n",
       " 'my',\n",
       " 'people',\n",
       " '!',\n",
       " 'I',\n",
       " \"'\",\n",
       " 'm',\n",
       " 'going',\n",
       " 'to',\n",
       " 'visit',\n",
       " 'a',\n",
       " 'friend',\n",
       " '.',\n",
       " 'Would',\n",
       " 'you',\n",
       " 'like',\n",
       " 'to',\n",
       " 'come',\n",
       " '?']"
      ]
     },
     "execution_count": 20,
     "metadata": {},
     "output_type": "execute_result"
    }
   ],
   "source": [
    "word_punct=WordPunctTokenizer()\n",
    "word_punct.tokenize(text)"
   ]
  },
  {
   "cell_type": "markdown",
   "metadata": {},
   "source": [
    "# Sentence Tokenizer"
   ]
  },
  {
   "cell_type": "code",
   "execution_count": 21,
   "metadata": {},
   "outputs": [],
   "source": [
    "from os import path\n",
    "paragraph=path.expanduser('C:/Users/William/Desktop/tokenize.txt')\n",
    "with open(paragraph,'rb') as po:\n",
    "    data=po.read().decode(errors='replace')\n"
   ]
  },
  {
   "cell_type": "code",
   "execution_count": 22,
   "metadata": {},
   "outputs": [
    {
     "name": "stdout",
     "output_type": "stream",
     "text": [
      "['A', 'common', 'alternative', 'to', 'using', 'dictionaries', 'is', 'the', 'hashing', 'trick,', 'where', 'words', 'are', 'mapped', 'directly', 'to', 'indices', 'with', 'a', 'hashing', 'function.[5]', 'Thus,', 'no', 'memory', 'is', 'required', 'to', 'store', 'a', 'dictionary.', 'Hash', 'collisions', 'are', 'typically', 'dealt', 'via', 'freed-up', 'memory', 'to', 'increase', 'the', 'number', 'of', 'hash', 'buckets.', 'In', 'practice,', 'hashing', 'simplifies', 'the', 'implementation', 'of', 'bag-of-words', 'models', 'and', 'improves', 'scalability.', 'In', 'Bayesian', 'spam', 'filtering,', 'an', 'e-mail', 'message', 'is', 'modeled', 'as', 'an', 'unordered', 'collection', 'of', 'words', 'selected', 'from', 'one', 'of', 'two', 'probability', 'distributions:', 'one', 'representing', 'spam', 'and', 'one', 'representing', 'legitimate', 'e-mail', '(\"ham\").', 'Imagine', 'there', 'are', 'two', 'literal', 'bags', 'full', 'of', 'words.', 'One', 'bag', 'is', 'filled', 'with', 'words', 'found', 'in', 'spam', 'messages,', 'and', 'the', 'other', 'with', 'words', 'found', 'in', 'legitimate', 'e-mail.', 'While', 'any', 'given', 'word', 'is', 'likely', 'to', 'be', 'somewhere', 'in', 'both', 'bags,', 'the', '\"spam\"', 'bag', 'will', 'contain', 'spam-related', 'words', 'such', 'as', '\"stock\",', '\"Viagra\",', 'and', '\"buy\"', 'significantly', 'more', 'frequently,', 'while', 'the', '\"ham\"', 'bag', 'will', 'contain', 'more', 'words', 'related', 'to', 'the', \"user's\", 'friends', 'or', 'workplace.', 'To', 'classify', 'an', 'e-mail', 'message,', 'the', 'Bayesian', 'spam', 'filter', 'assumes', 'that', 'the', 'message', 'is', 'a', 'pile', 'of', 'words', 'that', 'has', 'been', 'poured', 'out', 'randomly', 'from', 'one', 'of', 'the', 'two', 'bags,', 'and', 'uses', 'Bayesian', 'probability', 'to', 'determine', 'which', 'bag', 'it', 'is', 'more', 'likely', 'to', 'be', 'in.Naive', 'Bayes', 'spam', 'filtering', 'is', 'a', 'baseline', 'technique', 'for', 'dealing', 'with', 'spam', 'that', 'can', 'tailor', 'itself', 'to', 'the', 'email', 'needs', 'of', 'individual', 'users', 'and', 'give', 'low', 'false', 'positive', 'spam', 'detection', 'rates', 'that', 'are', 'generally', 'acceptable', 'to', 'users.', 'It', 'is', 'one', 'of', 'the', 'oldest', 'ways', 'of', 'doing', 'spam', 'filtering,', 'with', 'roots', 'in', 'the', '1990s.articular', 'words', 'have', 'particular', 'probabilities', 'of', 'occurring', 'in', 'spam', 'email', 'and', 'in', 'legitimate', 'email.', 'For', 'instance,', 'most', 'email', 'users', 'will', 'frequently', 'encounter', 'the', 'word', '\"Viagra\"', 'in', 'spam', 'email,', 'but', 'will', 'seldom', 'see', 'it', 'in', 'other', 'email.', 'The', 'filter', \"doesn't\", 'know', 'these', 'probabilities', 'in', 'advance,', 'and', 'must', 'first', 'be', 'trained', 'so', 'it', 'can', 'build', 'them', 'up.', 'To', 'train', 'the', 'filter,', 'the', 'user', 'must', 'manually', 'indicate', 'whether', 'a', 'new', 'email', 'is', 'spam', 'or', 'not.', 'For', 'all', 'words', 'in', 'each', 'training', 'email,', 'the', 'filter', 'will', 'adjust', 'the', 'probabilities', 'that', 'each', 'word', 'will', 'appear', 'in', 'spam', 'or', 'legitimate', 'email', 'in', 'its', 'database.', 'For', 'instance,', 'Bayesian', 'spam', 'filters', 'will', 'typically', 'have', 'learned', 'a', 'very', 'high', 'spam', 'probability', 'for', 'the', 'words', '\"Viagra\"', 'and', '\"refinance\",', 'but', 'a', 'very', 'low', 'spam', 'probability', 'for', 'words', 'seen', 'only', 'in', 'legitimate', 'email,', 'such', 'as', 'the', 'names', 'of', 'friends', 'and', 'family', 'members.', 'After', 'training,', 'the', 'word', 'probabilities', '(also', 'known', 'as', 'likelihood', 'functions)', 'are', 'used', 'to', 'compute', 'the', 'probability', 'that', 'an', 'email', 'with', 'a', 'particular', 'set', 'of', 'words', 'in', 'it', 'belongs', 'to', 'either', 'category.', 'Each', 'word', 'in', 'the', 'email', 'contributes', 'to', 'the', \"email's\", 'spam', 'probability,', 'or', 'only', 'the', 'most', 'interesting', 'words.', 'This', 'contribution', 'is', 'called', 'the', 'posterior', 'probability', 'and', 'is', 'computed', 'using', \"Bayes'\", 'theorem.', 'Then,', 'the', \"email's\", 'spam', 'probability', 'is', 'computed', 'over', 'all', 'words', 'in', 'the', 'email,', 'and', 'if', 'the', 'total', 'exceeds', 'a', 'certain', 'threshold', '(say', '95%),', 'the', 'filter', 'will', 'mark', 'the', 'email', 'as', 'a', 'spam.', 'As', 'in', 'any', 'other', 'spam', 'filtering', 'technique,', 'email', 'marked', 'as', 'spam', 'can', 'then', 'be', 'automatically', 'moved', 'to', 'a', '\"Junk\"', 'email', 'folder,', 'or', 'even', 'deleted', 'outright.', 'Some', 'software', 'implement', 'quarantine', 'mechanisms', 'that', 'define', 'a', 'time', 'frame', 'during', 'which', 'the', 'user', 'is', 'allowed', 'to', 'review', 'the', \"software's\", 'decision.', 'The', 'initial', 'training', 'can', 'usually', 'be', 'refined', 'when', 'wrong', 'judgements', 'from', 'the', 'software', 'are', 'identified', '(false', 'positives', 'or', 'false', 'negatives).', 'That', 'allows', 'the', 'software', 'to', 'dynamically', 'adapt', 'to', 'the', 'ever-evolving', 'nature', 'of', 'spam.', 'Some', 'spam', 'filters', 'combine', 'the', 'results', 'of', 'both', 'Bayesian', 'spam', 'filtering', 'and', 'other', 'heuristics', '(pre-defined', 'rules', 'about', 'the', 'contents,', 'looking', 'at', 'the', \"message's\", 'envelope,', 'etc.),', 'resulting', 'in', 'even', 'higher', 'filtering', 'accuracy,', 'sometimes', 'at', 'the', 'cost', 'of', 'adaptiveness.']\n"
     ]
    }
   ],
   "source": [
    "article=data.split()\n",
    "print(article)"
   ]
  },
  {
   "cell_type": "code",
   "execution_count": 23,
   "metadata": {},
   "outputs": [
    {
     "name": "stdout",
     "output_type": "stream",
     "text": [
      "['A common alternative to using dictionaries is the hashing trick, where words are mapped directly to indices with a hashing function.[5] Thus, no memory is required to store a dictionary. Hash collisions are typically dealt via freed-up memory to increase the number of hash buckets. In practice, hashing simplifies the implementation of bag-of-words models and improves scalability.\\r\\nIn Bayesian spam filtering, an e-mail message is modeled as an unordered collection of words selected from one of two probability distributions: one representing spam and one representing legitimate e-mail (\"ham\"). Imagine there are two literal bags full of words. One bag is filled with words found in spam messages, and the other with words found in legitimate e-mail. While any given word is likely to be somewhere in both bags, the \"spam\" bag will contain spam-related words such as \"stock\", \"Viagra\", and \"buy\" significantly more frequently, while the \"ham\" bag will contain more words related to the user\\'s friends or workplace.', 'To classify an e-mail message, the Bayesian spam filter assumes that the message is a pile of words that has been poured out randomly from one of the two bags, and uses Bayesian probability to determine which bag it is more likely to be in.Naive Bayes spam filtering is a baseline technique for dealing with spam that can tailor itself to the email needs of individual users and give low false positive spam detection rates that are generally acceptable to users. It is one of the oldest ways of doing spam filtering, with roots in the 1990s.articular words have particular probabilities of occurring in spam email and in legitimate email. For instance, most email users will frequently encounter the word \"Viagra\" in spam email, but will seldom see it in other email. The filter doesn\\'t know these probabilities in advance, and must first be trained so it can build them up. To train the filter, the user must manually indicate whether a new email is spam or not. For all words in each training email, the filter will adjust the probabilities that each word will appear in spam or legitimate email in its database. For instance, Bayesian spam filters will typically have learned a very high spam probability for the words \"Viagra\" and \"refinance\", but a very low spam probability for words seen only in legitimate email, such as the names of friends and family members.', \"After training, the word probabilities (also known as likelihood functions) are used to compute the probability that an email with a particular set of words in it belongs to either category. Each word in the email contributes to the email's spam probability, or only the most interesting words. This contribution is called the posterior probability and is computed using Bayes' theorem. Then, the email's spam probability is computed over all words in the email, and if the total exceeds a certain threshold (say 95%), the filter will mark the email as a spam.\", 'As in any other spam filtering technique, email marked as spam can then be automatically moved to a \"Junk\" email folder, or even deleted outright. Some software implement quarantine mechanisms that define a time frame during which the user is allowed to review the software\\'s decision.', 'The initial training can usually be refined when wrong judgements from the software are identified (false positives or false negatives). That allows the software to dynamically adapt to the ever-evolving nature of spam.', \"Some spam filters combine the results of both Bayesian spam filtering and other heuristics (pre-defined rules about the contents, looking at the message's envelope, etc.), resulting in even higher filtering accuracy, sometimes at the cost of adaptiveness.\"]\n"
     ]
    }
   ],
   "source": [
    "article=data.split('\\r\\n\\r\\n')\n",
    "print(article)"
   ]
  },
  {
   "cell_type": "code",
   "execution_count": 24,
   "metadata": {},
   "outputs": [
    {
     "name": "stdout",
     "output_type": "stream",
     "text": [
      "['A common alternative to using dictionaries is the hashing trick, where words are mapped directly to indices with a hashing function.[5] Thus, no memory is required to store a dictionary. Hash collisions are typically dealt via freed-up memory to increase the number of hash buckets. In practice, hashing simplifies the implementation of bag-of-words models and improves scalability.\\r\\nIn Bayesian spam filtering, an e-mail message is modeled as an unordered collection of words selected from one of two probability distributions: one representing spam and one representing legitimate e-mail (\"ham\"). Imagine there are two literal bags full of words. One bag is filled with words found in spam messages, and the other with words found in legitimate e-mail. While any given word is likely to be somewhere in both bags, the \"spam\" bag will contain spam-related words such as \"stock\", \"Viagra\", and \"buy\" significantly more frequently, while the \"ham\" bag will contain more words related to the user\\'s friends or workplace.\\r\\n\\r\\nTo classify an e-mail message, the Bayesian spam filter assumes that the message is a pile of words that has been poured out randomly from one of the two bags, and uses Bayesian probability to determine which bag it is more likely to be in.Naive Bayes spam filtering is a baseline technique for dealing with spam that can tailor itself to the email needs of individual users and give low false positive spam detection rates that are generally acceptable to users. It is one of the oldest ways of doing spam filtering, with roots in the 1990s.articular words have particular probabilities of occurring in spam email and in legitimate email. For instance, most email users will frequently encounter the word \"Viagra\" in spam email, but will seldom see it in other email. The filter doesn\\'t know these probabilities in advance, and must first be trained so it can build them up. To train the filter, the user must manually indicate whether a new email is spam or not. For all words in each training email, the filter will adjust the probabilities that each word will appear in spam or legitimate email in its database. For instance, Bayesian spam filters will typically have learned a very high spam probability for the words \"Viagra\" and \"refinance\", but a very low spam probability for words seen only in legitimate email, such as the names of friends and family members.\\r\\n\\r\\nAfter training, the word probabilities (also known as likelihood functions) are used to compute the probability that an email with a particular set of words in it belongs to either category. Each word in the email contributes to the email\\'s spam probability, or only the most interesting words. This contribution is called the posterior probability and is computed using Bayes\\' theorem. Then, the email\\'s spam probability is computed over all words in the email, and if the total exceeds a certain threshold (say 95%), the filter will mark the email as a spam.\\r\\n\\r\\nAs in any other spam filtering technique, email marked as spam can then be automatically moved to a \"Junk\" email folder, or even deleted outright. Some software implement quarantine mechanisms that define a time frame during which the user is allowed to review the software\\'s decision.\\r\\n\\r\\nThe initial training can usually be refined when wrong judgements from the software are identified (false positives or false negatives). That allows the software to dynamically adapt to the ever-evolving nature of spam.\\r\\n\\r\\nSome spam filters combine the results of both Bayesian spam filtering and other heuristics (pre-defined rules about the contents, looking at the message\\'s envelope, etc.), resulting in even higher filtering accuracy, sometimes at the cost of adaptiveness.']\n"
     ]
    }
   ],
   "source": [
    "article=data.split('n\\n')\n",
    "print(article)"
   ]
  },
  {
   "cell_type": "code",
   "execution_count": 25,
   "metadata": {
    "scrolled": true
   },
   "outputs": [
    {
     "name": "stdout",
     "output_type": "stream",
     "text": [
      "['A common alternative to using dictionaries is the hashing trick, where words are mapped directly to indices with a hashing function.[5] Thus, no memory is required to store a dictionary. Hash collisions are typically dealt via freed-up memory to increase the number of hash buckets. In practice, hashing simplifies the implementation of bag-of-words models and improves scalability.\\r\\nIn Bayesian spam filtering, an e-mail message is modeled as an unordered collection of words selected from one of two probability distributions: one representing spam and one representing legitimate e-mail (\"ham\"). Imagine there are two literal bags full of words. One bag is filled with words found in spam messages, and the other with words found in legitimate e-mail. While any given word is likely to be somewhere in both bags, the \"spam\" bag will contain spam-related words such as \"stock\", \"Viagra\", and \"buy\" significantly more frequently, while the \"ham\" bag will contain more words related to the user\\'s friends or workplace.\\r\\n\\r\\nTo classify an e-mail message, the Bayesian spam filter assumes that the message is a pile of words that has been poured out randomly from one of the two bags, and uses Bayesian probability to determine which bag it is more likely to be in.Naive Bayes spam filtering is a baseline technique for dealing with spam that can tailor itself to the email needs of individual users and give low false positive spam detection rates that are generally acceptable to users. It is one of the oldest ways of doing spam filtering, with roots in the 1990s.articular words have particular probabilities of occurring in spam email and in legitimate email. For instance, most email users will frequently encounter the word \"Viagra\" in spam email, but will seldom see it in other email. The filter doesn\\'t know these probabilities in advance, and must first be trained so it can build them up. To train the filter, the user must manually indicate whether a new email is spam or not. For all words in each training email, the filter will adjust the probabilities that each word will appear in spam or legitimate email in its database. For instance, Bayesian spam filters will typically have learned a very high spam probability for the words \"Viagra\" and \"refinance\", but a very low spam probability for words seen only in legitimate email, such as the names of friends and family members.\\r\\n\\r\\nAfter training, the word probabilities (also known as likelihood functions) are used to compute the probability that an email with a particular set of words in it belongs to either category. Each word in the email contributes to the email\\'s spam probability, or only the most interesting words. This contribution is called the posterior probability and is computed using Bayes\\' theorem. Then, the email\\'s spam probability is computed over all words in the email, and if the total exceeds a certain threshold (say 95%), the filter will mark the email as a spam.\\r\\n\\r\\nAs in any other spam filtering technique, email marked as spam can then be automatically moved to a \"Junk\" email folder, or even deleted outright. Some software implement quarantine mechanisms that define a time frame during which the user is allowed to review the software\\'s decision.\\r\\n\\r\\nThe initial training can usually be refined when wrong judgements from the software are identified (false positives or false negatives). That allows the software to dynamically adapt to the ever-evolving nature of spam.\\r\\n\\r\\nSome spam filters combine the results of both Bayesian spam filtering and other heuristics (pre-defined rules about the contents, looking at the message\\'s envelope, etc.), resulting in even higher filtering accuracy, sometimes at the cost of adaptiveness.']\n"
     ]
    }
   ],
   "source": [
    "article=data.split('n\\n')\n",
    "print(article)"
   ]
  },
  {
   "cell_type": "code",
   "execution_count": 26,
   "metadata": {
    "scrolled": true
   },
   "outputs": [
    {
     "name": "stdout",
     "output_type": "stream",
     "text": [
      "A common alternative to using dictionaries is the hashing trick, where words are mapped directly to indices with a hashing function.[5] Thus, no memory is required to store a dictionary. Hash collisions are typically dealt via freed-up memory to increase the number of hash buckets. In practice, hashing simplifies the implementation of bag-of-words models and improves scalability.\r\n",
      "In Bayesian spam filtering, an e-mail message is modeled as an unordered collection of words selected from one of two probability distributions: one representing spam and one representing legitimate e-mail (\"ham\"). Imagine there are two literal bags full of words. One bag is filled with words found in spam messages, and the other with words found in legitimate e-mail. While any given word is likely to be somewhere in both bags, the \"spam\" bag will contain spam-related words such as \"stock\", \"Viagra\", and \"buy\" significantly more frequently, while the \"ham\" bag will contain more words related to the user's friends or workplace.\r\n",
      "\r\n",
      "To classify an e-mail message, the Bayesian spam filter assumes that the message is a pile of words that has been poured out randomly from one of the two bags, and uses Bayesian probability to determine which bag it is more likely to be in.Naive Bayes spam filtering is a baseline technique for dealing with spam that can tailor itself to the email needs of individual users and give low false positive spam detection rates that are generally acceptable to users. It is one of the oldest ways of doing spam filtering, with roots in the 1990s.articular words have particular probabilities of occurring in spam email and in legitimate email. For instance, most email users will frequently encounter the word \"Viagra\" in spam email, but will seldom see it in other email. The filter doesn't know these probabilities in advance, and must first be trained so it can build them up. To train the filter, the user must manually indicate whether a new email is spam or not. For all words in each training email, the filter will adjust the probabilities that each word will appear in spam or legitimate email in its database. For instance, Bayesian spam filters will typically have learned a very high spam probability for the words \"Viagra\" and \"refinance\", but a very low spam probability for words seen only in legitimate email, such as the names of friends and family members.\r\n",
      "\r\n",
      "After training, the word probabilities (also known as likelihood functions) are used to compute the probability that an email with a particular set of words in it belongs to either category. Each word in the email contributes to the email's spam probability, or only the most interesting words. This contribution is called the posterior probability and is computed using Bayes' theorem. Then, the email's spam probability is computed over all words in the email, and if the total exceeds a certain threshold (say 95%), the filter will mark the email as a spam.\r\n",
      "\r\n",
      "As in any other spam filtering technique, email marked as spam can then be automatically moved to a \"Junk\" email folder, or even deleted outright. Some software implement quarantine mechanisms that define a time frame during which the user is allowed to review the software's decision.\r\n",
      "\r\n",
      "The initial training can usually be refined when wrong judgements from the software are identified (false positives or false negatives). That allows the software to dynamically adapt to the ever-evolving nature of spam.\r\n",
      "\r\n",
      "Some spam filters combine the results of both Bayesian spam filtering and other heuristics (pre-defined rules about the contents, looking at the message's envelope, etc.), resulting in even higher filtering accuracy, sometimes at the cost of adaptiveness.\n"
     ]
    }
   ],
   "source": [
    "article=data.split('n\\n')\n",
    "articles=article[0]\n",
    "print(articles)"
   ]
  },
  {
   "cell_type": "code",
   "execution_count": 27,
   "metadata": {},
   "outputs": [
    {
     "data": {
      "text/plain": [
       "['A common alternative to using dictionaries is the hashing trick, where words are mapped directly to indices with a hashing function.',\n",
       " '[5] Thus, no memory is required to store a dictionary.',\n",
       " 'Hash collisions are typically dealt via freed-up memory to increase the number of hash buckets.',\n",
       " 'In practice, hashing simplifies the implementation of bag-of-words models and improves scalability.',\n",
       " 'In Bayesian spam filtering, an e-mail message is modeled as an unordered collection of words selected from one of two probability distributions: one representing spam and one representing legitimate e-mail (\"ham\").',\n",
       " 'Imagine there are two literal bags full of words.',\n",
       " 'One bag is filled with words found in spam messages, and the other with words found in legitimate e-mail.',\n",
       " 'While any given word is likely to be somewhere in both bags, the \"spam\" bag will contain spam-related words such as \"stock\", \"Viagra\", and \"buy\" significantly more frequently, while the \"ham\" bag will contain more words related to the user\\'s friends or workplace.',\n",
       " 'To classify an e-mail message, the Bayesian spam filter assumes that the message is a pile of words that has been poured out randomly from one of the two bags, and uses Bayesian probability to determine which bag it is more likely to be in.Naive Bayes spam filtering is a baseline technique for dealing with spam that can tailor itself to the email needs of individual users and give low false positive spam detection rates that are generally acceptable to users.',\n",
       " 'It is one of the oldest ways of doing spam filtering, with roots in the 1990s.articular words have particular probabilities of occurring in spam email and in legitimate email.',\n",
       " 'For instance, most email users will frequently encounter the word \"Viagra\" in spam email, but will seldom see it in other email.',\n",
       " \"The filter doesn't know these probabilities in advance, and must first be trained so it can build them up.\",\n",
       " 'To train the filter, the user must manually indicate whether a new email is spam or not.',\n",
       " 'For all words in each training email, the filter will adjust the probabilities that each word will appear in spam or legitimate email in its database.',\n",
       " 'For instance, Bayesian spam filters will typically have learned a very high spam probability for the words \"Viagra\" and \"refinance\", but a very low spam probability for words seen only in legitimate email, such as the names of friends and family members.',\n",
       " 'After training, the word probabilities (also known as likelihood functions) are used to compute the probability that an email with a particular set of words in it belongs to either category.',\n",
       " \"Each word in the email contributes to the email's spam probability, or only the most interesting words.\",\n",
       " \"This contribution is called the posterior probability and is computed using Bayes' theorem.\",\n",
       " \"Then, the email's spam probability is computed over all words in the email, and if the total exceeds a certain threshold (say 95%), the filter will mark the email as a spam.\",\n",
       " 'As in any other spam filtering technique, email marked as spam can then be automatically moved to a \"Junk\" email folder, or even deleted outright.',\n",
       " \"Some software implement quarantine mechanisms that define a time frame during which the user is allowed to review the software's decision.\",\n",
       " 'The initial training can usually be refined when wrong judgements from the software are identified (false positives or false negatives).',\n",
       " 'That allows the software to dynamically adapt to the ever-evolving nature of spam.',\n",
       " \"Some spam filters combine the results of both Bayesian spam filtering and other heuristics (pre-defined rules about the contents, looking at the message's envelope, etc.\",\n",
       " '), resulting in even higher filtering accuracy, sometimes at the cost of adaptiveness.']"
      ]
     },
     "execution_count": 27,
     "metadata": {},
     "output_type": "execute_result"
    }
   ],
   "source": [
    "from nltk.tokenize import sent_tokenize\n",
    "sents=sent_tokenize(articles)\n",
    "sents\n"
   ]
  },
  {
   "cell_type": "code",
   "execution_count": 28,
   "metadata": {},
   "outputs": [
    {
     "name": "stdout",
     "output_type": "stream",
     "text": [
      "A common alternative to using dictionaries is the hashing trick, where words are mapped directly to indices with a hashing function.\n"
     ]
    }
   ],
   "source": [
    "print(sents[0])"
   ]
  },
  {
   "cell_type": "code",
   "execution_count": 29,
   "metadata": {},
   "outputs": [
    {
     "name": "stdout",
     "output_type": "stream",
     "text": [
      "['A common alternative to using dictionaries is the hashing trick, where words are mapped directly to indices with a hashing function.', '[5] Thus, no memory is required to store a dictionary.', 'Hash collisions are typically dealt via freed-up memory to increase the number of hash buckets.']\n"
     ]
    }
   ],
   "source": [
    "print(sents[:3])"
   ]
  },
  {
   "cell_type": "code",
   "execution_count": 62,
   "metadata": {},
   "outputs": [],
   "source": [
    "from nltk.corpus import stopwords\n",
    "from nltk.tokenize import word_tokenize\n",
    "stop_words=set(stopwords.words('english'))\n",
    "stopping_words=word_tokenize(articles)"
   ]
  },
  {
   "cell_type": "code",
   "execution_count": 63,
   "metadata": {},
   "outputs": [
    {
     "data": {
      "text/plain": [
       "['A',\n",
       " 'common',\n",
       " 'alternative',\n",
       " 'to',\n",
       " 'using',\n",
       " 'dictionaries',\n",
       " 'is',\n",
       " 'the',\n",
       " 'hashing',\n",
       " 'trick',\n",
       " ',',\n",
       " 'where',\n",
       " 'words',\n",
       " 'are',\n",
       " 'mapped',\n",
       " 'directly',\n",
       " 'to',\n",
       " 'indices',\n",
       " 'with',\n",
       " 'a',\n",
       " 'hashing',\n",
       " 'function',\n",
       " '.',\n",
       " '[',\n",
       " '5',\n",
       " ']',\n",
       " 'Thus',\n",
       " ',',\n",
       " 'no',\n",
       " 'memory',\n",
       " 'is',\n",
       " 'required',\n",
       " 'to',\n",
       " 'store',\n",
       " 'a',\n",
       " 'dictionary',\n",
       " '.',\n",
       " 'Hash',\n",
       " 'collisions',\n",
       " 'are',\n",
       " 'typically',\n",
       " 'dealt',\n",
       " 'via',\n",
       " 'freed-up',\n",
       " 'memory',\n",
       " 'to',\n",
       " 'increase',\n",
       " 'the',\n",
       " 'number',\n",
       " 'of',\n",
       " 'hash',\n",
       " 'buckets',\n",
       " '.',\n",
       " 'In',\n",
       " 'practice',\n",
       " ',',\n",
       " 'hashing',\n",
       " 'simplifies',\n",
       " 'the',\n",
       " 'implementation',\n",
       " 'of',\n",
       " 'bag-of-words',\n",
       " 'models',\n",
       " 'and',\n",
       " 'improves',\n",
       " 'scalability',\n",
       " '.',\n",
       " 'In',\n",
       " 'Bayesian',\n",
       " 'spam',\n",
       " 'filtering',\n",
       " ',',\n",
       " 'an',\n",
       " 'e-mail',\n",
       " 'message',\n",
       " 'is',\n",
       " 'modeled',\n",
       " 'as',\n",
       " 'an',\n",
       " 'unordered',\n",
       " 'collection',\n",
       " 'of',\n",
       " 'words',\n",
       " 'selected',\n",
       " 'from',\n",
       " 'one',\n",
       " 'of',\n",
       " 'two',\n",
       " 'probability',\n",
       " 'distributions',\n",
       " ':',\n",
       " 'one',\n",
       " 'representing',\n",
       " 'spam',\n",
       " 'and',\n",
       " 'one',\n",
       " 'representing',\n",
       " 'legitimate',\n",
       " 'e-mail',\n",
       " '(',\n",
       " '``',\n",
       " 'ham',\n",
       " \"''\",\n",
       " ')',\n",
       " '.',\n",
       " 'Imagine',\n",
       " 'there',\n",
       " 'are',\n",
       " 'two',\n",
       " 'literal',\n",
       " 'bags',\n",
       " 'full',\n",
       " 'of',\n",
       " 'words',\n",
       " '.',\n",
       " 'One',\n",
       " 'bag',\n",
       " 'is',\n",
       " 'filled',\n",
       " 'with',\n",
       " 'words',\n",
       " 'found',\n",
       " 'in',\n",
       " 'spam',\n",
       " 'messages',\n",
       " ',',\n",
       " 'and',\n",
       " 'the',\n",
       " 'other',\n",
       " 'with',\n",
       " 'words',\n",
       " 'found',\n",
       " 'in',\n",
       " 'legitimate',\n",
       " 'e-mail',\n",
       " '.',\n",
       " 'While',\n",
       " 'any',\n",
       " 'given',\n",
       " 'word',\n",
       " 'is',\n",
       " 'likely',\n",
       " 'to',\n",
       " 'be',\n",
       " 'somewhere',\n",
       " 'in',\n",
       " 'both',\n",
       " 'bags',\n",
       " ',',\n",
       " 'the',\n",
       " '``',\n",
       " 'spam',\n",
       " \"''\",\n",
       " 'bag',\n",
       " 'will',\n",
       " 'contain',\n",
       " 'spam-related',\n",
       " 'words',\n",
       " 'such',\n",
       " 'as',\n",
       " '``',\n",
       " 'stock',\n",
       " \"''\",\n",
       " ',',\n",
       " '``',\n",
       " 'Viagra',\n",
       " \"''\",\n",
       " ',',\n",
       " 'and',\n",
       " '``',\n",
       " 'buy',\n",
       " \"''\",\n",
       " 'significantly',\n",
       " 'more',\n",
       " 'frequently',\n",
       " ',',\n",
       " 'while',\n",
       " 'the',\n",
       " '``',\n",
       " 'ham',\n",
       " \"''\",\n",
       " 'bag',\n",
       " 'will',\n",
       " 'contain',\n",
       " 'more',\n",
       " 'words',\n",
       " 'related',\n",
       " 'to',\n",
       " 'the',\n",
       " 'user',\n",
       " \"'s\",\n",
       " 'friends',\n",
       " 'or',\n",
       " 'workplace',\n",
       " '.',\n",
       " 'To',\n",
       " 'classify',\n",
       " 'an',\n",
       " 'e-mail',\n",
       " 'message',\n",
       " ',',\n",
       " 'the',\n",
       " 'Bayesian',\n",
       " 'spam',\n",
       " 'filter',\n",
       " 'assumes',\n",
       " 'that',\n",
       " 'the',\n",
       " 'message',\n",
       " 'is',\n",
       " 'a',\n",
       " 'pile',\n",
       " 'of',\n",
       " 'words',\n",
       " 'that',\n",
       " 'has',\n",
       " 'been',\n",
       " 'poured',\n",
       " 'out',\n",
       " 'randomly',\n",
       " 'from',\n",
       " 'one',\n",
       " 'of',\n",
       " 'the',\n",
       " 'two',\n",
       " 'bags',\n",
       " ',',\n",
       " 'and',\n",
       " 'uses',\n",
       " 'Bayesian',\n",
       " 'probability',\n",
       " 'to',\n",
       " 'determine',\n",
       " 'which',\n",
       " 'bag',\n",
       " 'it',\n",
       " 'is',\n",
       " 'more',\n",
       " 'likely',\n",
       " 'to',\n",
       " 'be',\n",
       " 'in.Naive',\n",
       " 'Bayes',\n",
       " 'spam',\n",
       " 'filtering',\n",
       " 'is',\n",
       " 'a',\n",
       " 'baseline',\n",
       " 'technique',\n",
       " 'for',\n",
       " 'dealing',\n",
       " 'with',\n",
       " 'spam',\n",
       " 'that',\n",
       " 'can',\n",
       " 'tailor',\n",
       " 'itself',\n",
       " 'to',\n",
       " 'the',\n",
       " 'email',\n",
       " 'needs',\n",
       " 'of',\n",
       " 'individual',\n",
       " 'users',\n",
       " 'and',\n",
       " 'give',\n",
       " 'low',\n",
       " 'false',\n",
       " 'positive',\n",
       " 'spam',\n",
       " 'detection',\n",
       " 'rates',\n",
       " 'that',\n",
       " 'are',\n",
       " 'generally',\n",
       " 'acceptable',\n",
       " 'to',\n",
       " 'users',\n",
       " '.',\n",
       " 'It',\n",
       " 'is',\n",
       " 'one',\n",
       " 'of',\n",
       " 'the',\n",
       " 'oldest',\n",
       " 'ways',\n",
       " 'of',\n",
       " 'doing',\n",
       " 'spam',\n",
       " 'filtering',\n",
       " ',',\n",
       " 'with',\n",
       " 'roots',\n",
       " 'in',\n",
       " 'the',\n",
       " '1990s.articular',\n",
       " 'words',\n",
       " 'have',\n",
       " 'particular',\n",
       " 'probabilities',\n",
       " 'of',\n",
       " 'occurring',\n",
       " 'in',\n",
       " 'spam',\n",
       " 'email',\n",
       " 'and',\n",
       " 'in',\n",
       " 'legitimate',\n",
       " 'email',\n",
       " '.',\n",
       " 'For',\n",
       " 'instance',\n",
       " ',',\n",
       " 'most',\n",
       " 'email',\n",
       " 'users',\n",
       " 'will',\n",
       " 'frequently',\n",
       " 'encounter',\n",
       " 'the',\n",
       " 'word',\n",
       " '``',\n",
       " 'Viagra',\n",
       " \"''\",\n",
       " 'in',\n",
       " 'spam',\n",
       " 'email',\n",
       " ',',\n",
       " 'but',\n",
       " 'will',\n",
       " 'seldom',\n",
       " 'see',\n",
       " 'it',\n",
       " 'in',\n",
       " 'other',\n",
       " 'email',\n",
       " '.',\n",
       " 'The',\n",
       " 'filter',\n",
       " 'does',\n",
       " \"n't\",\n",
       " 'know',\n",
       " 'these',\n",
       " 'probabilities',\n",
       " 'in',\n",
       " 'advance',\n",
       " ',',\n",
       " 'and',\n",
       " 'must',\n",
       " 'first',\n",
       " 'be',\n",
       " 'trained',\n",
       " 'so',\n",
       " 'it',\n",
       " 'can',\n",
       " 'build',\n",
       " 'them',\n",
       " 'up',\n",
       " '.',\n",
       " 'To',\n",
       " 'train',\n",
       " 'the',\n",
       " 'filter',\n",
       " ',',\n",
       " 'the',\n",
       " 'user',\n",
       " 'must',\n",
       " 'manually',\n",
       " 'indicate',\n",
       " 'whether',\n",
       " 'a',\n",
       " 'new',\n",
       " 'email',\n",
       " 'is',\n",
       " 'spam',\n",
       " 'or',\n",
       " 'not',\n",
       " '.',\n",
       " 'For',\n",
       " 'all',\n",
       " 'words',\n",
       " 'in',\n",
       " 'each',\n",
       " 'training',\n",
       " 'email',\n",
       " ',',\n",
       " 'the',\n",
       " 'filter',\n",
       " 'will',\n",
       " 'adjust',\n",
       " 'the',\n",
       " 'probabilities',\n",
       " 'that',\n",
       " 'each',\n",
       " 'word',\n",
       " 'will',\n",
       " 'appear',\n",
       " 'in',\n",
       " 'spam',\n",
       " 'or',\n",
       " 'legitimate',\n",
       " 'email',\n",
       " 'in',\n",
       " 'its',\n",
       " 'database',\n",
       " '.',\n",
       " 'For',\n",
       " 'instance',\n",
       " ',',\n",
       " 'Bayesian',\n",
       " 'spam',\n",
       " 'filters',\n",
       " 'will',\n",
       " 'typically',\n",
       " 'have',\n",
       " 'learned',\n",
       " 'a',\n",
       " 'very',\n",
       " 'high',\n",
       " 'spam',\n",
       " 'probability',\n",
       " 'for',\n",
       " 'the',\n",
       " 'words',\n",
       " '``',\n",
       " 'Viagra',\n",
       " \"''\",\n",
       " 'and',\n",
       " '``',\n",
       " 'refinance',\n",
       " \"''\",\n",
       " ',',\n",
       " 'but',\n",
       " 'a',\n",
       " 'very',\n",
       " 'low',\n",
       " 'spam',\n",
       " 'probability',\n",
       " 'for',\n",
       " 'words',\n",
       " 'seen',\n",
       " 'only',\n",
       " 'in',\n",
       " 'legitimate',\n",
       " 'email',\n",
       " ',',\n",
       " 'such',\n",
       " 'as',\n",
       " 'the',\n",
       " 'names',\n",
       " 'of',\n",
       " 'friends',\n",
       " 'and',\n",
       " 'family',\n",
       " 'members',\n",
       " '.',\n",
       " 'After',\n",
       " 'training',\n",
       " ',',\n",
       " 'the',\n",
       " 'word',\n",
       " 'probabilities',\n",
       " '(',\n",
       " 'also',\n",
       " 'known',\n",
       " 'as',\n",
       " 'likelihood',\n",
       " 'functions',\n",
       " ')',\n",
       " 'are',\n",
       " 'used',\n",
       " 'to',\n",
       " 'compute',\n",
       " 'the',\n",
       " 'probability',\n",
       " 'that',\n",
       " 'an',\n",
       " 'email',\n",
       " 'with',\n",
       " 'a',\n",
       " 'particular',\n",
       " 'set',\n",
       " 'of',\n",
       " 'words',\n",
       " 'in',\n",
       " 'it',\n",
       " 'belongs',\n",
       " 'to',\n",
       " 'either',\n",
       " 'category',\n",
       " '.',\n",
       " 'Each',\n",
       " 'word',\n",
       " 'in',\n",
       " 'the',\n",
       " 'email',\n",
       " 'contributes',\n",
       " 'to',\n",
       " 'the',\n",
       " 'email',\n",
       " \"'s\",\n",
       " 'spam',\n",
       " 'probability',\n",
       " ',',\n",
       " 'or',\n",
       " 'only',\n",
       " 'the',\n",
       " 'most',\n",
       " 'interesting',\n",
       " 'words',\n",
       " '.',\n",
       " 'This',\n",
       " 'contribution',\n",
       " 'is',\n",
       " 'called',\n",
       " 'the',\n",
       " 'posterior',\n",
       " 'probability',\n",
       " 'and',\n",
       " 'is',\n",
       " 'computed',\n",
       " 'using',\n",
       " 'Bayes',\n",
       " \"'\",\n",
       " 'theorem',\n",
       " '.',\n",
       " 'Then',\n",
       " ',',\n",
       " 'the',\n",
       " 'email',\n",
       " \"'s\",\n",
       " 'spam',\n",
       " 'probability',\n",
       " 'is',\n",
       " 'computed',\n",
       " 'over',\n",
       " 'all',\n",
       " 'words',\n",
       " 'in',\n",
       " 'the',\n",
       " 'email',\n",
       " ',',\n",
       " 'and',\n",
       " 'if',\n",
       " 'the',\n",
       " 'total',\n",
       " 'exceeds',\n",
       " 'a',\n",
       " 'certain',\n",
       " 'threshold',\n",
       " '(',\n",
       " 'say',\n",
       " '95',\n",
       " '%',\n",
       " ')',\n",
       " ',',\n",
       " 'the',\n",
       " 'filter',\n",
       " 'will',\n",
       " 'mark',\n",
       " 'the',\n",
       " 'email',\n",
       " 'as',\n",
       " 'a',\n",
       " 'spam',\n",
       " '.',\n",
       " 'As',\n",
       " 'in',\n",
       " 'any',\n",
       " 'other',\n",
       " 'spam',\n",
       " 'filtering',\n",
       " 'technique',\n",
       " ',',\n",
       " 'email',\n",
       " 'marked',\n",
       " 'as',\n",
       " 'spam',\n",
       " 'can',\n",
       " 'then',\n",
       " 'be',\n",
       " 'automatically',\n",
       " 'moved',\n",
       " 'to',\n",
       " 'a',\n",
       " '``',\n",
       " 'Junk',\n",
       " \"''\",\n",
       " 'email',\n",
       " 'folder',\n",
       " ',',\n",
       " 'or',\n",
       " 'even',\n",
       " 'deleted',\n",
       " 'outright',\n",
       " '.',\n",
       " 'Some',\n",
       " 'software',\n",
       " 'implement',\n",
       " 'quarantine',\n",
       " 'mechanisms',\n",
       " 'that',\n",
       " 'define',\n",
       " 'a',\n",
       " 'time',\n",
       " 'frame',\n",
       " 'during',\n",
       " 'which',\n",
       " 'the',\n",
       " 'user',\n",
       " 'is',\n",
       " 'allowed',\n",
       " 'to',\n",
       " 'review',\n",
       " 'the',\n",
       " 'software',\n",
       " \"'s\",\n",
       " 'decision',\n",
       " '.',\n",
       " 'The',\n",
       " 'initial',\n",
       " 'training',\n",
       " 'can',\n",
       " 'usually',\n",
       " 'be',\n",
       " 'refined',\n",
       " 'when',\n",
       " 'wrong',\n",
       " 'judgements',\n",
       " 'from',\n",
       " 'the',\n",
       " 'software',\n",
       " 'are',\n",
       " 'identified',\n",
       " '(',\n",
       " 'false',\n",
       " 'positives',\n",
       " 'or',\n",
       " 'false',\n",
       " 'negatives',\n",
       " ')',\n",
       " '.',\n",
       " 'That',\n",
       " 'allows',\n",
       " 'the',\n",
       " 'software',\n",
       " 'to',\n",
       " 'dynamically',\n",
       " 'adapt',\n",
       " 'to',\n",
       " 'the',\n",
       " 'ever-evolving',\n",
       " 'nature',\n",
       " 'of',\n",
       " 'spam',\n",
       " '.',\n",
       " 'Some',\n",
       " 'spam',\n",
       " 'filters',\n",
       " 'combine',\n",
       " 'the',\n",
       " 'results',\n",
       " 'of',\n",
       " 'both',\n",
       " 'Bayesian',\n",
       " 'spam',\n",
       " 'filtering',\n",
       " 'and',\n",
       " 'other',\n",
       " 'heuristics',\n",
       " '(',\n",
       " 'pre-defined',\n",
       " 'rules',\n",
       " 'about',\n",
       " 'the',\n",
       " 'contents',\n",
       " ',',\n",
       " 'looking',\n",
       " 'at',\n",
       " 'the',\n",
       " 'message',\n",
       " \"'s\",\n",
       " 'envelope',\n",
       " ',',\n",
       " 'etc',\n",
       " '.',\n",
       " ')',\n",
       " ',',\n",
       " 'resulting',\n",
       " 'in',\n",
       " 'even',\n",
       " 'higher',\n",
       " 'filtering',\n",
       " 'accuracy',\n",
       " ',',\n",
       " 'sometimes',\n",
       " 'at',\n",
       " 'the',\n",
       " 'cost',\n",
       " 'of',\n",
       " 'adaptiveness',\n",
       " '.']"
      ]
     },
     "execution_count": 63,
     "metadata": {},
     "output_type": "execute_result"
    }
   ],
   "source": [
    "stop=set(stopwords.words('english'))\n",
    "tokens=word_tokenize(articles)\n",
    "tokens"
   ]
  },
  {
   "cell_type": "markdown",
   "metadata": {},
   "source": [
    "# Frequency Distribution"
   ]
  },
  {
   "cell_type": "code",
   "execution_count": 73,
   "metadata": {},
   "outputs": [],
   "source": [
    "\n",
    "from nltk import FreqDist\n",
    "from nltk.book import *"
   ]
  },
  {
   "cell_type": "code",
   "execution_count": 74,
   "metadata": {},
   "outputs": [
    {
     "name": "stdout",
     "output_type": "stream",
     "text": [
      "<FreqDist with 56 samples and 3727 outcomes>\n"
     ]
    }
   ],
   "source": [
    "freqDist=FreqDist(articles)\n",
    "print(freqDist)"
   ]
  },
  {
   "cell_type": "code",
   "execution_count": 75,
   "metadata": {},
   "outputs": [
    {
     "name": "stdout",
     "output_type": "stream",
     "text": [
      "<FreqDist with 19317 samples and 260819 outcomes>\n"
     ]
    }
   ],
   "source": [
    "freq1=FreqDist(text1)\n",
    "print(freq1)"
   ]
  },
  {
   "cell_type": "code",
   "execution_count": 76,
   "metadata": {},
   "outputs": [
    {
     "name": "stdout",
     "output_type": "stream",
     "text": [
      "3727\n"
     ]
    }
   ],
   "source": [
    "print(len(articles))"
   ]
  },
  {
   "cell_type": "code",
   "execution_count": 86,
   "metadata": {},
   "outputs": [],
   "source": [
    "import matplotlib.pyplot as plt\n",
    "%matplotlib inline"
   ]
  },
  {
   "cell_type": "code",
   "execution_count": 87,
   "metadata": {},
   "outputs": [
    {
     "data": {
      "image/png": "[encoded data removed]",
      "text/plain": [
       "<Figure size 432x288 with 1 Axes>"
      ]
     },
     "metadata": {
      "needs_background": "light"
     },
     "output_type": "display_data"
    },
    {
     "data": {
      "text/plain": [
       "<matplotlib.axes._subplots.AxesSubplot at 0x1f9ad358808>"
      ]
     },
     "execution_count": 87,
     "metadata": {},
     "output_type": "execute_result"
    }
   ],
   "source": [
    "freqDist.plot(10)"
   ]
  },
  {
   "cell_type": "code",
   "execution_count": 79,
   "metadata": {},
   "outputs": [
    {
     "name": "stdout",
     "output_type": "stream",
     "text": [
      "0\n"
     ]
    }
   ],
   "source": [
    "freqdist=FreqDist(articles)\n",
    "the_words=list(freqdist.keys())\n",
    "print(freqdist['hi'])"
   ]
  },
  {
   "cell_type": "code",
   "execution_count": 88,
   "metadata": {},
   "outputs": [],
   "source": [
    "from nltk.corpus import brown\n",
    "from nltk.probability import FreqDist"
   ]
  },
  {
   "cell_type": "code",
   "execution_count": 89,
   "metadata": {},
   "outputs": [
    {
     "name": "stdout",
     "output_type": "stream",
     "text": [
      "\n",
      ": 11\n",
      "\r",
      ": 11\n",
      " : 597\n",
      "\": 20\n",
      "%: 1\n",
      "': 7\n",
      "(: 5\n",
      "): 5\n",
      ",: 31\n",
      "-: 10\n",
      ".: 27\n",
      "0: 1\n",
      "1: 1\n",
      "5: 2\n",
      "9: 3\n",
      ":: 1\n",
      "A: 3\n",
      "B: 7\n",
      "E: 1\n",
      "F: 3\n",
      "H: 1\n",
      "I: 4\n",
      "J: 1\n",
      "N: 1\n",
      "O: 1\n",
      "S: 2\n",
      "T: 8\n",
      "V: 3\n",
      "W: 1\n",
      "[: 1\n",
      "]: 1\n",
      "a: 267\n",
      "b: 57\n",
      "c: 73\n",
      "d: 100\n",
      "e: 355\n",
      "f: 69\n",
      "g: 58\n",
      "h: 113\n",
      "i: 278\n",
      "j: 2\n",
      "k: 13\n",
      "l: 164\n",
      "m: 116\n",
      "n: 182\n",
      "o: 193\n",
      "p: 68\n",
      "q: 6\n",
      "r: 180\n",
      "s: 210\n",
      "t: 251\n",
      "u: 66\n",
      "v: 25\n",
      "w: 60\n",
      "x: 1\n",
      "y: 49\n"
     ]
    },
    {
     "data": {
      "image/png": "[encoded data removed]",
      "text/plain": [
       "<Figure size 432x288 with 1 Axes>"
      ]
     },
     "metadata": {
      "needs_background": "light"
     },
     "output_type": "display_data"
    },
    {
     "data": {
      "text/plain": [
       "<matplotlib.axes._subplots.AxesSubplot at 0x1f9acfd3848>"
      ]
     },
     "execution_count": 89,
     "metadata": {},
     "output_type": "execute_result"
    }
   ],
   "source": [
    "freqDist=nltk.FreqDist(articles)\n",
    "filter_words=dict([(t,p) for t, p in freqDist.items() if len (t) <10])\n",
    "for key in sorted(filter_words):\n",
    "    print(\"%s: %s\" %( key,filter_words[key]))\n",
    "freqDist=nltk.FreqDist(filter_words)\n",
    "\n",
    "freqDist.plot(25, cumulative=False)"
   ]
  },
  {
   "cell_type": "code",
   "execution_count": 83,
   "metadata": {},
   "outputs": [
    {
     "name": "stdout",
     "output_type": "stream",
     "text": [
      "data <FreqDist with 3 samples and 282 outcomes>\n",
      "bucket <FreqDist with 3 samples and 282 outcomes>\n",
      "news <FreqDist with 3 samples and 282 outcomes>\n"
     ]
    }
   ],
   "source": [
    "noun=['data','bucket','news']\n",
    "for d in noun:\n",
    "    data_words=brown.words()\n",
    "    freDist=FreqDist([w.lower() for w in data_words if w.lower() in noun])\n",
    "    print (d,freDist)"
   ]
  },
  {
   "cell_type": "code",
   "execution_count": 84,
   "metadata": {},
   "outputs": [
    {
     "data": {
      "image/png": "[encoded data removed]",
      "text/plain": [
       "<Figure size 432x288 with 1 Axes>"
      ]
     },
     "metadata": {
      "needs_background": "light"
     },
     "output_type": "display_data"
    },
    {
     "data": {
      "text/plain": [
       "<matplotlib.axes._subplots.AxesSubplot at 0x1f9accbf448>"
      ]
     },
     "execution_count": 84,
     "metadata": {},
     "output_type": "execute_result"
    }
   ],
   "source": [
    "freDist.plot()"
   ]
  },
  {
   "cell_type": "code",
   "execution_count": 85,
   "metadata": {},
   "outputs": [],
   "source": [
    "from nltk.corpus import inaugural"
   ]
  },
  {
   "cell_type": "code",
   "execution_count": 45,
   "metadata": {},
   "outputs": [
    {
     "data": {
      "text/plain": [
       "['1789-Washington.txt',\n",
       " '1793-Washington.txt',\n",
       " '1797-Adams.txt',\n",
       " '1801-Jefferson.txt',\n",
       " '1805-Jefferson.txt',\n",
       " '1809-Madison.txt',\n",
       " '1813-Madison.txt',\n",
       " '1817-Monroe.txt',\n",
       " '1821-Monroe.txt',\n",
       " '1825-Adams.txt',\n",
       " '1829-Jackson.txt',\n",
       " '1833-Jackson.txt',\n",
       " '1837-VanBuren.txt',\n",
       " '1841-Harrison.txt',\n",
       " '1845-Polk.txt',\n",
       " '1849-Taylor.txt',\n",
       " '1853-Pierce.txt',\n",
       " '1857-Buchanan.txt',\n",
       " '1861-Lincoln.txt',\n",
       " '1865-Lincoln.txt',\n",
       " '1869-Grant.txt',\n",
       " '1873-Grant.txt',\n",
       " '1877-Hayes.txt',\n",
       " '1881-Garfield.txt',\n",
       " '1885-Cleveland.txt',\n",
       " '1889-Harrison.txt',\n",
       " '1893-Cleveland.txt',\n",
       " '1897-McKinley.txt',\n",
       " '1901-McKinley.txt',\n",
       " '1905-Roosevelt.txt',\n",
       " '1909-Taft.txt',\n",
       " '1913-Wilson.txt',\n",
       " '1917-Wilson.txt',\n",
       " '1921-Harding.txt',\n",
       " '1925-Coolidge.txt',\n",
       " '1929-Hoover.txt',\n",
       " '1933-Roosevelt.txt',\n",
       " '1937-Roosevelt.txt',\n",
       " '1941-Roosevelt.txt',\n",
       " '1945-Roosevelt.txt',\n",
       " '1949-Truman.txt',\n",
       " '1953-Eisenhower.txt',\n",
       " '1957-Eisenhower.txt',\n",
       " '1961-Kennedy.txt',\n",
       " '1965-Johnson.txt',\n",
       " '1969-Nixon.txt',\n",
       " '1973-Nixon.txt',\n",
       " '1977-Carter.txt',\n",
       " '1981-Reagan.txt',\n",
       " '1985-Reagan.txt',\n",
       " '1989-Bush.txt',\n",
       " '1993-Clinton.txt',\n",
       " '1997-Clinton.txt',\n",
       " '2001-Bush.txt',\n",
       " '2005-Bush.txt',\n",
       " '2009-Obama.txt',\n",
       " '2013-Obama.txt',\n",
       " '2017-Trump.txt']"
      ]
     },
     "execution_count": 45,
     "metadata": {},
     "output_type": "execute_result"
    }
   ],
   "source": [
    "inaugural.fileids()"
   ]
  },
  {
   "cell_type": "code",
   "execution_count": 50,
   "metadata": {},
   "outputs": [
    {
     "name": "stdout",
     "output_type": "stream",
     "text": [
      "<ConditionalFreqDist with 2 conditions>\n"
     ]
    },
    {
     "data": {
      "image/png": "[encoded data removed]",
      "text/plain": [
       "<Figure size 432x288 with 1 Axes>"
      ]
     },
     "metadata": {
      "needs_background": "light"
     },
     "output_type": "display_data"
    },
    {
     "data": {
      "text/plain": [
       "<matplotlib.axes._subplots.AxesSubplot at 0x1f9ab609688>"
      ]
     },
     "execution_count": 50,
     "metadata": {},
     "output_type": "execute_result"
    }
   ],
   "source": [
    "cumul_freq=nltk.ConditionalFreqDist((target, fileid)\n",
    "    for fileid in inaugural.fileids()\n",
    "    for w in inaugural.words(fileid)\n",
    "    for target in ['war', 'church']\n",
    "    if w.lower().startswith(target))\n",
    "print(cumul_freq)\n",
    "cumul_freq.plot()"
   ]
  },
  {
   "cell_type": "code",
   "execution_count": null,
   "metadata": {},
   "outputs": [],
   "source": []
  },
  {
   "cell_type": "code",
   "execution_count": null,
   "metadata": {},
   "outputs": [],
   "source": []
  },
  {
   "cell_type": "code",
   "execution_count": null,
   "metadata": {},
   "outputs": [],
   "source": []
  }
 ],
 "metadata": {
  "kernelspec": {
   "display_name": "Python 3",
   "language": "python",
   "name": "python3"
  },
  "language_info": {
   "codemirror_mode": {
    "name": "ipython",
    "version": 3
   },
   "file_extension": ".py",
   "mimetype": "text/x-python",
   "name": "python",
   "nbconvert_exporter": "python",
   "pygments_lexer": "ipython3",
   "version": "3.7.4"
  }
 },
 "nbformat": 4,
 "nbformat_minor": 2
}
